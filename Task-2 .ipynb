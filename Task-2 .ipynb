{
 "cells": [
  {
   "cell_type": "markdown",
   "id": "c5981a6c",
   "metadata": {},
   "source": [
    " Details of the dataset\n",
    "\n",
    "The dataset contains 6 predictors related to eating habits, 5 predictors related to responders’ characteristics, and 5 predictors related to physical conditions. The output is a categorical variable in 7 levels: Insufficient Weight, Normal Weight,Overweight Level I,Overweight Level II,Obesity TypeI,Obesity TypeII and Obesity TypeIII"
   ]
  },
  {
   "cell_type": "markdown",
   "id": "f6918eff",
   "metadata": {},
   "source": [
    "# Problem Statement"
   ]
  },
  {
   "cell_type": "markdown",
   "id": "d8772470",
   "metadata": {},
   "source": [
    "Obesity is a chronic disease that is common and serious and linked to an increased risk of chronic diseases such as type 2 diabetes, heart disease, and some forms of cancer. It is, however, strongly related to a variety of risk factors that are challenging to identify. In this regard, analyzing and studying to identify these risk factors has the potential to provide greater insight into their relationships with health outcomes. The purpose of this project was to apply different predictive models based on health factors to predict the level of obesity."
   ]
  },
  {
   "cell_type": "markdown",
   "id": "23687850",
   "metadata": {},
   "source": [
    "Problematic\n",
    "Based on all the data, the objective of this project is to classify individuals according to their obesity level. This variables will be named: NObeyesdad. This variable will take differents values among:\n",
    "\n",
    "Insufficient_Weight\n",
    "Normal_Weight\n",
    "Overweight_Level_I\n",
    "Overweight_Level_II\n",
    "Obesity_Type_I\n",
    "Obesity_Type_II\n",
    "Obesity_Type_III"
   ]
  },
  {
   "cell_type": "code",
   "execution_count": 24,
   "id": "4d2b61b0",
   "metadata": {},
   "outputs": [],
   "source": [
    "import numpy as np\n",
    "import pandas as pd"
   ]
  },
  {
   "cell_type": "code",
   "execution_count": 25,
   "id": "5e3f5c1e",
   "metadata": {},
   "outputs": [
    {
     "data": {
      "text/html": [
       "<div>\n",
       "<style scoped>\n",
       "    .dataframe tbody tr th:only-of-type {\n",
       "        vertical-align: middle;\n",
       "    }\n",
       "\n",
       "    .dataframe tbody tr th {\n",
       "        vertical-align: top;\n",
       "    }\n",
       "\n",
       "    .dataframe thead th {\n",
       "        text-align: right;\n",
       "    }\n",
       "</style>\n",
       "<table border=\"1\" class=\"dataframe\">\n",
       "  <thead>\n",
       "    <tr style=\"text-align: right;\">\n",
       "      <th></th>\n",
       "      <th>Gender</th>\n",
       "      <th>Age</th>\n",
       "      <th>Height</th>\n",
       "      <th>Weight</th>\n",
       "      <th>family_history_with_overweight</th>\n",
       "      <th>FAVC</th>\n",
       "      <th>FCVC</th>\n",
       "      <th>NCP</th>\n",
       "      <th>CAEC</th>\n",
       "      <th>SMOKE</th>\n",
       "      <th>CH2O</th>\n",
       "      <th>SCC</th>\n",
       "      <th>FAF</th>\n",
       "      <th>TUE</th>\n",
       "      <th>CALC</th>\n",
       "      <th>MTRANS</th>\n",
       "      <th>NObeyesdad</th>\n",
       "    </tr>\n",
       "  </thead>\n",
       "  <tbody>\n",
       "    <tr>\n",
       "      <th>2106</th>\n",
       "      <td>Female</td>\n",
       "      <td>20.976842</td>\n",
       "      <td>1.710730</td>\n",
       "      <td>131.408528</td>\n",
       "      <td>yes</td>\n",
       "      <td>yes</td>\n",
       "      <td>3.0</td>\n",
       "      <td>3.0</td>\n",
       "      <td>Sometimes</td>\n",
       "      <td>no</td>\n",
       "      <td>1.728139</td>\n",
       "      <td>no</td>\n",
       "      <td>1.676269</td>\n",
       "      <td>0.906247</td>\n",
       "      <td>Sometimes</td>\n",
       "      <td>Public_Transportation</td>\n",
       "      <td>Obesity_Type_III</td>\n",
       "    </tr>\n",
       "    <tr>\n",
       "      <th>2107</th>\n",
       "      <td>Female</td>\n",
       "      <td>21.982942</td>\n",
       "      <td>1.748584</td>\n",
       "      <td>133.742943</td>\n",
       "      <td>yes</td>\n",
       "      <td>yes</td>\n",
       "      <td>3.0</td>\n",
       "      <td>3.0</td>\n",
       "      <td>Sometimes</td>\n",
       "      <td>no</td>\n",
       "      <td>2.005130</td>\n",
       "      <td>no</td>\n",
       "      <td>1.341390</td>\n",
       "      <td>0.599270</td>\n",
       "      <td>Sometimes</td>\n",
       "      <td>Public_Transportation</td>\n",
       "      <td>Obesity_Type_III</td>\n",
       "    </tr>\n",
       "    <tr>\n",
       "      <th>2108</th>\n",
       "      <td>Female</td>\n",
       "      <td>22.524036</td>\n",
       "      <td>1.752206</td>\n",
       "      <td>133.689352</td>\n",
       "      <td>yes</td>\n",
       "      <td>yes</td>\n",
       "      <td>3.0</td>\n",
       "      <td>3.0</td>\n",
       "      <td>Sometimes</td>\n",
       "      <td>no</td>\n",
       "      <td>2.054193</td>\n",
       "      <td>no</td>\n",
       "      <td>1.414209</td>\n",
       "      <td>0.646288</td>\n",
       "      <td>Sometimes</td>\n",
       "      <td>Public_Transportation</td>\n",
       "      <td>Obesity_Type_III</td>\n",
       "    </tr>\n",
       "    <tr>\n",
       "      <th>2109</th>\n",
       "      <td>Female</td>\n",
       "      <td>24.361936</td>\n",
       "      <td>1.739450</td>\n",
       "      <td>133.346641</td>\n",
       "      <td>yes</td>\n",
       "      <td>yes</td>\n",
       "      <td>3.0</td>\n",
       "      <td>3.0</td>\n",
       "      <td>Sometimes</td>\n",
       "      <td>no</td>\n",
       "      <td>2.852339</td>\n",
       "      <td>no</td>\n",
       "      <td>1.139107</td>\n",
       "      <td>0.586035</td>\n",
       "      <td>Sometimes</td>\n",
       "      <td>Public_Transportation</td>\n",
       "      <td>Obesity_Type_III</td>\n",
       "    </tr>\n",
       "    <tr>\n",
       "      <th>2110</th>\n",
       "      <td>Female</td>\n",
       "      <td>23.664709</td>\n",
       "      <td>1.738836</td>\n",
       "      <td>133.472641</td>\n",
       "      <td>yes</td>\n",
       "      <td>yes</td>\n",
       "      <td>3.0</td>\n",
       "      <td>3.0</td>\n",
       "      <td>Sometimes</td>\n",
       "      <td>no</td>\n",
       "      <td>2.863513</td>\n",
       "      <td>no</td>\n",
       "      <td>1.026452</td>\n",
       "      <td>0.714137</td>\n",
       "      <td>Sometimes</td>\n",
       "      <td>Public_Transportation</td>\n",
       "      <td>Obesity_Type_III</td>\n",
       "    </tr>\n",
       "  </tbody>\n",
       "</table>\n",
       "</div>"
      ],
      "text/plain": [
       "      Gender        Age    Height      Weight family_history_with_overweight  \\\n",
       "2106  Female  20.976842  1.710730  131.408528                            yes   \n",
       "2107  Female  21.982942  1.748584  133.742943                            yes   \n",
       "2108  Female  22.524036  1.752206  133.689352                            yes   \n",
       "2109  Female  24.361936  1.739450  133.346641                            yes   \n",
       "2110  Female  23.664709  1.738836  133.472641                            yes   \n",
       "\n",
       "     FAVC  FCVC  NCP       CAEC SMOKE      CH2O SCC       FAF       TUE  \\\n",
       "2106  yes   3.0  3.0  Sometimes    no  1.728139  no  1.676269  0.906247   \n",
       "2107  yes   3.0  3.0  Sometimes    no  2.005130  no  1.341390  0.599270   \n",
       "2108  yes   3.0  3.0  Sometimes    no  2.054193  no  1.414209  0.646288   \n",
       "2109  yes   3.0  3.0  Sometimes    no  2.852339  no  1.139107  0.586035   \n",
       "2110  yes   3.0  3.0  Sometimes    no  2.863513  no  1.026452  0.714137   \n",
       "\n",
       "           CALC                 MTRANS        NObeyesdad  \n",
       "2106  Sometimes  Public_Transportation  Obesity_Type_III  \n",
       "2107  Sometimes  Public_Transportation  Obesity_Type_III  \n",
       "2108  Sometimes  Public_Transportation  Obesity_Type_III  \n",
       "2109  Sometimes  Public_Transportation  Obesity_Type_III  \n",
       "2110  Sometimes  Public_Transportation  Obesity_Type_III  "
      ]
     },
     "execution_count": 25,
     "metadata": {},
     "output_type": "execute_result"
    }
   ],
   "source": [
    "df = pd.read_csv(\"C://Users//Karishma P//OneDrive//Desktop//obesity data.csv\",encoding_errors='ignore')\n",
    "df.head()\n",
    "df.tail() "
   ]
  },
  {
   "cell_type": "code",
   "execution_count": 26,
   "id": "523a822f",
   "metadata": {},
   "outputs": [
    {
     "data": {
      "text/plain": [
       "Index(['Gender', 'Age', 'Height', 'Weight', 'family_history_with_overweight',\n",
       "       'FAVC', 'FCVC', 'NCP', 'CAEC', 'SMOKE', 'CH2O', 'SCC', 'FAF', 'TUE',\n",
       "       'CALC', 'MTRANS', 'NObeyesdad'],\n",
       "      dtype='object')"
      ]
     },
     "execution_count": 26,
     "metadata": {},
     "output_type": "execute_result"
    }
   ],
   "source": [
    "df.columns"
   ]
  },
  {
   "cell_type": "code",
   "execution_count": 27,
   "id": "5a018ae8",
   "metadata": {},
   "outputs": [
    {
     "name": "stdout",
     "output_type": "stream",
     "text": [
      "Gender                            0\n",
      "Age                               0\n",
      "Height                            0\n",
      "Weight                            0\n",
      "family_history_with_overweight    0\n",
      "FAVC                              0\n",
      "FCVC                              0\n",
      "NCP                               0\n",
      "CAEC                              0\n",
      "SMOKE                             0\n",
      "CH2O                              0\n",
      "SCC                               0\n",
      "FAF                               0\n",
      "TUE                               0\n",
      "CALC                              0\n",
      "MTRANS                            0\n",
      "NObeyesdad                        0\n",
      "dtype: int64\n"
     ]
    }
   ],
   "source": [
    "print(df.isna().sum()) #for missing values"
   ]
  },
  {
   "cell_type": "code",
   "execution_count": 28,
   "id": "021b3345",
   "metadata": {},
   "outputs": [
    {
     "name": "stdout",
     "output_type": "stream",
     "text": [
      "(2111, 17) (2111, 17)\n"
     ]
    }
   ],
   "source": [
    "df_clean = df.dropna()\n",
    "print(df_clean.shape, df.shape)"
   ]
  },
  {
   "cell_type": "markdown",
   "id": "4bf1c96b",
   "metadata": {},
   "source": [
    "# Feature Scaling"
   ]
  },
  {
   "cell_type": "code",
   "execution_count": 29,
   "id": "1fd6ff3a",
   "metadata": {},
   "outputs": [],
   "source": [
    "num_cols=['Age', 'Height', 'Weight', 'FCVC', 'NCP', 'CH2O', 'FAF', 'TUE']\n",
    "from sklearn.preprocessing import StandardScaler\n",
    "ss=StandardScaler()\n",
    "df[num_cols]=ss.fit_transform(df[num_cols])"
   ]
  },
  {
   "cell_type": "code",
   "execution_count": 30,
   "id": "312843f0",
   "metadata": {},
   "outputs": [
    {
     "data": {
      "text/html": [
       "<div>\n",
       "<style scoped>\n",
       "    .dataframe tbody tr th:only-of-type {\n",
       "        vertical-align: middle;\n",
       "    }\n",
       "\n",
       "    .dataframe tbody tr th {\n",
       "        vertical-align: top;\n",
       "    }\n",
       "\n",
       "    .dataframe thead th {\n",
       "        text-align: right;\n",
       "    }\n",
       "</style>\n",
       "<table border=\"1\" class=\"dataframe\">\n",
       "  <thead>\n",
       "    <tr style=\"text-align: right;\">\n",
       "      <th></th>\n",
       "      <th>Gender</th>\n",
       "      <th>Age</th>\n",
       "      <th>Height</th>\n",
       "      <th>Weight</th>\n",
       "      <th>family_history_with_overweight</th>\n",
       "      <th>FAVC</th>\n",
       "      <th>FCVC</th>\n",
       "      <th>NCP</th>\n",
       "      <th>CAEC</th>\n",
       "      <th>SMOKE</th>\n",
       "      <th>CH2O</th>\n",
       "      <th>SCC</th>\n",
       "      <th>FAF</th>\n",
       "      <th>TUE</th>\n",
       "      <th>CALC</th>\n",
       "      <th>MTRANS</th>\n",
       "      <th>NObeyesdad</th>\n",
       "    </tr>\n",
       "  </thead>\n",
       "  <tbody>\n",
       "    <tr>\n",
       "      <th>0</th>\n",
       "      <td>Female</td>\n",
       "      <td>-0.522124</td>\n",
       "      <td>-0.875589</td>\n",
       "      <td>-0.862558</td>\n",
       "      <td>yes</td>\n",
       "      <td>no</td>\n",
       "      <td>-0.785019</td>\n",
       "      <td>0.404153</td>\n",
       "      <td>Sometimes</td>\n",
       "      <td>no</td>\n",
       "      <td>-0.013073</td>\n",
       "      <td>no</td>\n",
       "      <td>-1.188039</td>\n",
       "      <td>0.561997</td>\n",
       "      <td>no</td>\n",
       "      <td>Public_Transportation</td>\n",
       "      <td>Normal_Weight</td>\n",
       "    </tr>\n",
       "    <tr>\n",
       "      <th>1</th>\n",
       "      <td>Female</td>\n",
       "      <td>-0.522124</td>\n",
       "      <td>-1.947599</td>\n",
       "      <td>-1.168077</td>\n",
       "      <td>yes</td>\n",
       "      <td>no</td>\n",
       "      <td>1.088342</td>\n",
       "      <td>0.404153</td>\n",
       "      <td>Sometimes</td>\n",
       "      <td>yes</td>\n",
       "      <td>1.618759</td>\n",
       "      <td>yes</td>\n",
       "      <td>2.339750</td>\n",
       "      <td>-1.080625</td>\n",
       "      <td>Sometimes</td>\n",
       "      <td>Public_Transportation</td>\n",
       "      <td>Normal_Weight</td>\n",
       "    </tr>\n",
       "    <tr>\n",
       "      <th>2</th>\n",
       "      <td>Male</td>\n",
       "      <td>-0.206889</td>\n",
       "      <td>1.054029</td>\n",
       "      <td>-0.366090</td>\n",
       "      <td>yes</td>\n",
       "      <td>no</td>\n",
       "      <td>-0.785019</td>\n",
       "      <td>0.404153</td>\n",
       "      <td>Sometimes</td>\n",
       "      <td>no</td>\n",
       "      <td>-0.013073</td>\n",
       "      <td>no</td>\n",
       "      <td>1.163820</td>\n",
       "      <td>0.561997</td>\n",
       "      <td>Frequently</td>\n",
       "      <td>Public_Transportation</td>\n",
       "      <td>Normal_Weight</td>\n",
       "    </tr>\n",
       "    <tr>\n",
       "      <th>3</th>\n",
       "      <td>Male</td>\n",
       "      <td>0.423582</td>\n",
       "      <td>1.054029</td>\n",
       "      <td>0.015808</td>\n",
       "      <td>no</td>\n",
       "      <td>no</td>\n",
       "      <td>1.088342</td>\n",
       "      <td>0.404153</td>\n",
       "      <td>Sometimes</td>\n",
       "      <td>no</td>\n",
       "      <td>-0.013073</td>\n",
       "      <td>no</td>\n",
       "      <td>1.163820</td>\n",
       "      <td>-1.080625</td>\n",
       "      <td>Frequently</td>\n",
       "      <td>Walking</td>\n",
       "      <td>Overweight_Level_I</td>\n",
       "    </tr>\n",
       "    <tr>\n",
       "      <th>4</th>\n",
       "      <td>Male</td>\n",
       "      <td>-0.364507</td>\n",
       "      <td>0.839627</td>\n",
       "      <td>0.122740</td>\n",
       "      <td>no</td>\n",
       "      <td>no</td>\n",
       "      <td>-0.785019</td>\n",
       "      <td>-2.167023</td>\n",
       "      <td>Sometimes</td>\n",
       "      <td>no</td>\n",
       "      <td>-0.013073</td>\n",
       "      <td>no</td>\n",
       "      <td>-1.188039</td>\n",
       "      <td>-1.080625</td>\n",
       "      <td>Sometimes</td>\n",
       "      <td>Public_Transportation</td>\n",
       "      <td>Overweight_Level_II</td>\n",
       "    </tr>\n",
       "  </tbody>\n",
       "</table>\n",
       "</div>"
      ],
      "text/plain": [
       "   Gender       Age    Height    Weight family_history_with_overweight FAVC  \\\n",
       "0  Female -0.522124 -0.875589 -0.862558                            yes   no   \n",
       "1  Female -0.522124 -1.947599 -1.168077                            yes   no   \n",
       "2    Male -0.206889  1.054029 -0.366090                            yes   no   \n",
       "3    Male  0.423582  1.054029  0.015808                             no   no   \n",
       "4    Male -0.364507  0.839627  0.122740                             no   no   \n",
       "\n",
       "       FCVC       NCP       CAEC SMOKE      CH2O  SCC       FAF       TUE  \\\n",
       "0 -0.785019  0.404153  Sometimes    no -0.013073   no -1.188039  0.561997   \n",
       "1  1.088342  0.404153  Sometimes   yes  1.618759  yes  2.339750 -1.080625   \n",
       "2 -0.785019  0.404153  Sometimes    no -0.013073   no  1.163820  0.561997   \n",
       "3  1.088342  0.404153  Sometimes    no -0.013073   no  1.163820 -1.080625   \n",
       "4 -0.785019 -2.167023  Sometimes    no -0.013073   no -1.188039 -1.080625   \n",
       "\n",
       "         CALC                 MTRANS           NObeyesdad  \n",
       "0          no  Public_Transportation        Normal_Weight  \n",
       "1   Sometimes  Public_Transportation        Normal_Weight  \n",
       "2  Frequently  Public_Transportation        Normal_Weight  \n",
       "3  Frequently                Walking   Overweight_Level_I  \n",
       "4   Sometimes  Public_Transportation  Overweight_Level_II  "
      ]
     },
     "execution_count": 30,
     "metadata": {},
     "output_type": "execute_result"
    }
   ],
   "source": [
    "df.head()"
   ]
  },
  {
   "cell_type": "markdown",
   "id": "8bd4559d",
   "metadata": {},
   "source": [
    "# ENCODING"
   ]
  },
  {
   "cell_type": "code",
   "execution_count": 31,
   "id": "cd8e2449",
   "metadata": {},
   "outputs": [
    {
     "data": {
      "text/plain": [
       "Index(['Gender', 'Age', 'Height', 'Weight', 'family_history_with_overweight',\n",
       "       'FAVC', 'FCVC', 'NCP', 'CAEC', 'SMOKE', 'CH2O', 'SCC', 'FAF', 'TUE',\n",
       "       'CALC', 'MTRANS', 'NObeyesdad'],\n",
       "      dtype='object')"
      ]
     },
     "execution_count": 31,
     "metadata": {},
     "output_type": "execute_result"
    }
   ],
   "source": [
    "df.columns"
   ]
  },
  {
   "cell_type": "code",
   "execution_count": 32,
   "id": "6f443b8d",
   "metadata": {},
   "outputs": [],
   "source": [
    "from sklearn.preprocessing import LabelEncoder\n",
    "le = LabelEncoder()\n",
    "categorical_columns = ['Gender','family_history_with_overweight','FAVC','CAEC','SMOKE','SCC','CALC','MTRANS', 'NObeyesdad']\n",
    "\n",
    "df[categorical_columns] =df[categorical_columns].astype('category')\n",
    "\n",
    "for i in categorical_columns:\n",
    "    df[i]=le.fit_transform(df[i])\n"
   ]
  },
  {
   "cell_type": "code",
   "execution_count": 33,
   "id": "34349d56",
   "metadata": {},
   "outputs": [
    {
     "data": {
      "text/html": [
       "<div>\n",
       "<style scoped>\n",
       "    .dataframe tbody tr th:only-of-type {\n",
       "        vertical-align: middle;\n",
       "    }\n",
       "\n",
       "    .dataframe tbody tr th {\n",
       "        vertical-align: top;\n",
       "    }\n",
       "\n",
       "    .dataframe thead th {\n",
       "        text-align: right;\n",
       "    }\n",
       "</style>\n",
       "<table border=\"1\" class=\"dataframe\">\n",
       "  <thead>\n",
       "    <tr style=\"text-align: right;\">\n",
       "      <th></th>\n",
       "      <th>Gender</th>\n",
       "      <th>Age</th>\n",
       "      <th>Height</th>\n",
       "      <th>Weight</th>\n",
       "      <th>family_history_with_overweight</th>\n",
       "      <th>FAVC</th>\n",
       "      <th>FCVC</th>\n",
       "      <th>NCP</th>\n",
       "      <th>CAEC</th>\n",
       "      <th>SMOKE</th>\n",
       "      <th>CH2O</th>\n",
       "      <th>SCC</th>\n",
       "      <th>FAF</th>\n",
       "      <th>TUE</th>\n",
       "      <th>CALC</th>\n",
       "      <th>MTRANS</th>\n",
       "      <th>NObeyesdad</th>\n",
       "    </tr>\n",
       "  </thead>\n",
       "  <tbody>\n",
       "    <tr>\n",
       "      <th>0</th>\n",
       "      <td>0</td>\n",
       "      <td>-0.522124</td>\n",
       "      <td>-0.875589</td>\n",
       "      <td>-0.862558</td>\n",
       "      <td>1</td>\n",
       "      <td>0</td>\n",
       "      <td>-0.785019</td>\n",
       "      <td>0.404153</td>\n",
       "      <td>2</td>\n",
       "      <td>0</td>\n",
       "      <td>-0.013073</td>\n",
       "      <td>0</td>\n",
       "      <td>-1.188039</td>\n",
       "      <td>0.561997</td>\n",
       "      <td>3</td>\n",
       "      <td>3</td>\n",
       "      <td>1</td>\n",
       "    </tr>\n",
       "    <tr>\n",
       "      <th>1</th>\n",
       "      <td>0</td>\n",
       "      <td>-0.522124</td>\n",
       "      <td>-1.947599</td>\n",
       "      <td>-1.168077</td>\n",
       "      <td>1</td>\n",
       "      <td>0</td>\n",
       "      <td>1.088342</td>\n",
       "      <td>0.404153</td>\n",
       "      <td>2</td>\n",
       "      <td>1</td>\n",
       "      <td>1.618759</td>\n",
       "      <td>1</td>\n",
       "      <td>2.339750</td>\n",
       "      <td>-1.080625</td>\n",
       "      <td>2</td>\n",
       "      <td>3</td>\n",
       "      <td>1</td>\n",
       "    </tr>\n",
       "    <tr>\n",
       "      <th>2</th>\n",
       "      <td>1</td>\n",
       "      <td>-0.206889</td>\n",
       "      <td>1.054029</td>\n",
       "      <td>-0.366090</td>\n",
       "      <td>1</td>\n",
       "      <td>0</td>\n",
       "      <td>-0.785019</td>\n",
       "      <td>0.404153</td>\n",
       "      <td>2</td>\n",
       "      <td>0</td>\n",
       "      <td>-0.013073</td>\n",
       "      <td>0</td>\n",
       "      <td>1.163820</td>\n",
       "      <td>0.561997</td>\n",
       "      <td>1</td>\n",
       "      <td>3</td>\n",
       "      <td>1</td>\n",
       "    </tr>\n",
       "    <tr>\n",
       "      <th>3</th>\n",
       "      <td>1</td>\n",
       "      <td>0.423582</td>\n",
       "      <td>1.054029</td>\n",
       "      <td>0.015808</td>\n",
       "      <td>0</td>\n",
       "      <td>0</td>\n",
       "      <td>1.088342</td>\n",
       "      <td>0.404153</td>\n",
       "      <td>2</td>\n",
       "      <td>0</td>\n",
       "      <td>-0.013073</td>\n",
       "      <td>0</td>\n",
       "      <td>1.163820</td>\n",
       "      <td>-1.080625</td>\n",
       "      <td>1</td>\n",
       "      <td>4</td>\n",
       "      <td>5</td>\n",
       "    </tr>\n",
       "    <tr>\n",
       "      <th>4</th>\n",
       "      <td>1</td>\n",
       "      <td>-0.364507</td>\n",
       "      <td>0.839627</td>\n",
       "      <td>0.122740</td>\n",
       "      <td>0</td>\n",
       "      <td>0</td>\n",
       "      <td>-0.785019</td>\n",
       "      <td>-2.167023</td>\n",
       "      <td>2</td>\n",
       "      <td>0</td>\n",
       "      <td>-0.013073</td>\n",
       "      <td>0</td>\n",
       "      <td>-1.188039</td>\n",
       "      <td>-1.080625</td>\n",
       "      <td>2</td>\n",
       "      <td>3</td>\n",
       "      <td>6</td>\n",
       "    </tr>\n",
       "  </tbody>\n",
       "</table>\n",
       "</div>"
      ],
      "text/plain": [
       "   Gender       Age    Height    Weight  family_history_with_overweight  FAVC  \\\n",
       "0       0 -0.522124 -0.875589 -0.862558                               1     0   \n",
       "1       0 -0.522124 -1.947599 -1.168077                               1     0   \n",
       "2       1 -0.206889  1.054029 -0.366090                               1     0   \n",
       "3       1  0.423582  1.054029  0.015808                               0     0   \n",
       "4       1 -0.364507  0.839627  0.122740                               0     0   \n",
       "\n",
       "       FCVC       NCP  CAEC  SMOKE      CH2O  SCC       FAF       TUE  CALC  \\\n",
       "0 -0.785019  0.404153     2      0 -0.013073    0 -1.188039  0.561997     3   \n",
       "1  1.088342  0.404153     2      1  1.618759    1  2.339750 -1.080625     2   \n",
       "2 -0.785019  0.404153     2      0 -0.013073    0  1.163820  0.561997     1   \n",
       "3  1.088342  0.404153     2      0 -0.013073    0  1.163820 -1.080625     1   \n",
       "4 -0.785019 -2.167023     2      0 -0.013073    0 -1.188039 -1.080625     2   \n",
       "\n",
       "   MTRANS  NObeyesdad  \n",
       "0       3           1  \n",
       "1       3           1  \n",
       "2       3           1  \n",
       "3       4           5  \n",
       "4       3           6  "
      ]
     },
     "execution_count": 33,
     "metadata": {},
     "output_type": "execute_result"
    }
   ],
   "source": [
    "df.head()"
   ]
  },
  {
   "cell_type": "markdown",
   "id": "5351a35f",
   "metadata": {},
   "source": [
    "# K-means"
   ]
  },
  {
   "cell_type": "code",
   "execution_count": 34,
   "id": "0ce084b7",
   "metadata": {},
   "outputs": [
    {
     "data": {
      "image/png": "[encoded data removed]",
      "text/plain": [
       "<Figure size 432x288 with 1 Axes>"
      ]
     },
     "metadata": {
      "needs_background": "light"
     },
     "output_type": "display_data"
    }
   ],
   "source": [
    "from sklearn.cluster import KMeans\n",
    "from sklearn.metrics import silhouette_score\n",
    "import matplotlib.pyplot as plt\n",
    "\n",
    "silhouette_scores = [] \n",
    "\n",
    "for n_cluster in range(2,8):\n",
    "    silhouette_scores.append( \n",
    "        silhouette_score(df, KMeans(n_clusters = n_cluster).fit_predict(df))) \n",
    "    \n",
    "# Plotting a bar graph to compare the results \n",
    "k = [2, 3, 4, 5, 6,7] \n",
    "plt.bar(k, silhouette_scores) \n",
    "plt.xlabel('Number of clusters', fontsize = 10) \n",
    "plt.ylabel('Silhouette Score', fontsize = 10) \n",
    "plt.grid()\n",
    "plt.show() \n"
   ]
  },
  {
   "cell_type": "code",
   "execution_count": 35,
   "id": "02fbd8de",
   "metadata": {},
   "outputs": [],
   "source": [
    "from sklearn.cluster import KMeans\n",
    "kmeans = KMeans(n_clusters = 3) #highest silhoutte score is on cluster3\n",
    "clusters = kmeans.fit_predict(df)\n"
   ]
  },
  {
   "cell_type": "code",
   "execution_count": 36,
   "id": "b3312e85",
   "metadata": {},
   "outputs": [
    {
     "data": {
      "text/plain": [
       "array([1, 1, 1, ..., 2, 2, 2])"
      ]
     },
     "execution_count": 36,
     "metadata": {},
     "output_type": "execute_result"
    }
   ],
   "source": [
    "clusters"
   ]
  },
  {
   "cell_type": "code",
   "execution_count": 37,
   "id": "eb2e3eaa",
   "metadata": {},
   "outputs": [
    {
     "data": {
      "text/html": [
       "<div>\n",
       "<style scoped>\n",
       "    .dataframe tbody tr th:only-of-type {\n",
       "        vertical-align: middle;\n",
       "    }\n",
       "\n",
       "    .dataframe tbody tr th {\n",
       "        vertical-align: top;\n",
       "    }\n",
       "\n",
       "    .dataframe thead th {\n",
       "        text-align: right;\n",
       "    }\n",
       "</style>\n",
       "<table border=\"1\" class=\"dataframe\">\n",
       "  <thead>\n",
       "    <tr style=\"text-align: right;\">\n",
       "      <th></th>\n",
       "      <th>Gender</th>\n",
       "      <th>Age</th>\n",
       "      <th>Height</th>\n",
       "      <th>Weight</th>\n",
       "      <th>family_history_with_overweight</th>\n",
       "      <th>FAVC</th>\n",
       "      <th>FCVC</th>\n",
       "      <th>NCP</th>\n",
       "      <th>CAEC</th>\n",
       "      <th>SMOKE</th>\n",
       "      <th>CH2O</th>\n",
       "      <th>SCC</th>\n",
       "      <th>FAF</th>\n",
       "      <th>TUE</th>\n",
       "      <th>CALC</th>\n",
       "      <th>MTRANS</th>\n",
       "      <th>NObeyesdad</th>\n",
       "      <th>Cluster</th>\n",
       "    </tr>\n",
       "  </thead>\n",
       "  <tbody>\n",
       "    <tr>\n",
       "      <th>0</th>\n",
       "      <td>0</td>\n",
       "      <td>-0.522124</td>\n",
       "      <td>-0.875589</td>\n",
       "      <td>-0.862558</td>\n",
       "      <td>1</td>\n",
       "      <td>0</td>\n",
       "      <td>-0.785019</td>\n",
       "      <td>0.404153</td>\n",
       "      <td>2</td>\n",
       "      <td>0</td>\n",
       "      <td>-0.013073</td>\n",
       "      <td>0</td>\n",
       "      <td>-1.188039</td>\n",
       "      <td>0.561997</td>\n",
       "      <td>3</td>\n",
       "      <td>3</td>\n",
       "      <td>1</td>\n",
       "      <td>1</td>\n",
       "    </tr>\n",
       "    <tr>\n",
       "      <th>1</th>\n",
       "      <td>0</td>\n",
       "      <td>-0.522124</td>\n",
       "      <td>-1.947599</td>\n",
       "      <td>-1.168077</td>\n",
       "      <td>1</td>\n",
       "      <td>0</td>\n",
       "      <td>1.088342</td>\n",
       "      <td>0.404153</td>\n",
       "      <td>2</td>\n",
       "      <td>1</td>\n",
       "      <td>1.618759</td>\n",
       "      <td>1</td>\n",
       "      <td>2.339750</td>\n",
       "      <td>-1.080625</td>\n",
       "      <td>2</td>\n",
       "      <td>3</td>\n",
       "      <td>1</td>\n",
       "      <td>1</td>\n",
       "    </tr>\n",
       "    <tr>\n",
       "      <th>2</th>\n",
       "      <td>1</td>\n",
       "      <td>-0.206889</td>\n",
       "      <td>1.054029</td>\n",
       "      <td>-0.366090</td>\n",
       "      <td>1</td>\n",
       "      <td>0</td>\n",
       "      <td>-0.785019</td>\n",
       "      <td>0.404153</td>\n",
       "      <td>2</td>\n",
       "      <td>0</td>\n",
       "      <td>-0.013073</td>\n",
       "      <td>0</td>\n",
       "      <td>1.163820</td>\n",
       "      <td>0.561997</td>\n",
       "      <td>1</td>\n",
       "      <td>3</td>\n",
       "      <td>1</td>\n",
       "      <td>1</td>\n",
       "    </tr>\n",
       "    <tr>\n",
       "      <th>3</th>\n",
       "      <td>1</td>\n",
       "      <td>0.423582</td>\n",
       "      <td>1.054029</td>\n",
       "      <td>0.015808</td>\n",
       "      <td>0</td>\n",
       "      <td>0</td>\n",
       "      <td>1.088342</td>\n",
       "      <td>0.404153</td>\n",
       "      <td>2</td>\n",
       "      <td>0</td>\n",
       "      <td>-0.013073</td>\n",
       "      <td>0</td>\n",
       "      <td>1.163820</td>\n",
       "      <td>-1.080625</td>\n",
       "      <td>1</td>\n",
       "      <td>4</td>\n",
       "      <td>5</td>\n",
       "      <td>2</td>\n",
       "    </tr>\n",
       "    <tr>\n",
       "      <th>4</th>\n",
       "      <td>1</td>\n",
       "      <td>-0.364507</td>\n",
       "      <td>0.839627</td>\n",
       "      <td>0.122740</td>\n",
       "      <td>0</td>\n",
       "      <td>0</td>\n",
       "      <td>-0.785019</td>\n",
       "      <td>-2.167023</td>\n",
       "      <td>2</td>\n",
       "      <td>0</td>\n",
       "      <td>-0.013073</td>\n",
       "      <td>0</td>\n",
       "      <td>-1.188039</td>\n",
       "      <td>-1.080625</td>\n",
       "      <td>2</td>\n",
       "      <td>3</td>\n",
       "      <td>6</td>\n",
       "      <td>2</td>\n",
       "    </tr>\n",
       "  </tbody>\n",
       "</table>\n",
       "</div>"
      ],
      "text/plain": [
       "   Gender       Age    Height    Weight  family_history_with_overweight  FAVC  \\\n",
       "0       0 -0.522124 -0.875589 -0.862558                               1     0   \n",
       "1       0 -0.522124 -1.947599 -1.168077                               1     0   \n",
       "2       1 -0.206889  1.054029 -0.366090                               1     0   \n",
       "3       1  0.423582  1.054029  0.015808                               0     0   \n",
       "4       1 -0.364507  0.839627  0.122740                               0     0   \n",
       "\n",
       "       FCVC       NCP  CAEC  SMOKE      CH2O  SCC       FAF       TUE  CALC  \\\n",
       "0 -0.785019  0.404153     2      0 -0.013073    0 -1.188039  0.561997     3   \n",
       "1  1.088342  0.404153     2      1  1.618759    1  2.339750 -1.080625     2   \n",
       "2 -0.785019  0.404153     2      0 -0.013073    0  1.163820  0.561997     1   \n",
       "3  1.088342  0.404153     2      0 -0.013073    0  1.163820 -1.080625     1   \n",
       "4 -0.785019 -2.167023     2      0 -0.013073    0 -1.188039 -1.080625     2   \n",
       "\n",
       "   MTRANS  NObeyesdad  Cluster  \n",
       "0       3           1        1  \n",
       "1       3           1        1  \n",
       "2       3           1        1  \n",
       "3       4           5        2  \n",
       "4       3           6        2  "
      ]
     },
     "execution_count": 37,
     "metadata": {},
     "output_type": "execute_result"
    }
   ],
   "source": [
    "df[\"Cluster\"] = clusters\n",
    "df.head()"
   ]
  },
  {
   "cell_type": "markdown",
   "id": "6649e288",
   "metadata": {},
   "source": [
    "# Calculating K mean performance using silhouette score and Intertia"
   ]
  },
  {
   "cell_type": "code",
   "execution_count": 38,
   "id": "35afe085",
   "metadata": {},
   "outputs": [
    {
     "name": "stdout",
     "output_type": "stream",
     "text": [
      "Silhouette Score: 0.2553628942723935\n"
     ]
    }
   ],
   "source": [
    "silhouette_avg = silhouette_score(df, kmeans.labels_)\n",
    "print(\"Silhouette Score:\", silhouette_avg)"
   ]
  },
  {
   "cell_type": "markdown",
   "id": "580320af",
   "metadata": {},
   "source": [
    "A Silhouette Score of 0.255 indicates a moderate level of separation between clusters. The score ranges from -1 to 1, where higher values suggest better-defined clusters. A score of 0.255 suggests that the clusters have some degree of separation, but there is room for improvement. "
   ]
  },
  {
   "cell_type": "code",
   "execution_count": 39,
   "id": "e80105fd",
   "metadata": {},
   "outputs": [
    {
     "name": "stdout",
     "output_type": "stream",
     "text": [
      "Inertia: 18287.925947506228\n"
     ]
    }
   ],
   "source": [
    "from sklearn.cluster import KMeans\n",
    "kmeans = KMeans(n_clusters=4)\n",
    "kmeans.fit(df)\n",
    "inertia = kmeans.inertia_\n",
    "print(\"Inertia:\", inertia)"
   ]
  },
  {
   "cell_type": "markdown",
   "id": "7a387e4a",
   "metadata": {},
   "source": [
    "The inertia value of 18287.93 represents the sum of squared distances between data points and the assigned cluster centroids in a KMeans clustering algorithm. A lower inertia generally indicates more compact."
   ]
  },
  {
   "cell_type": "markdown",
   "id": "53fab133",
   "metadata": {},
   "source": [
    "# Plotting the Clustering on basis of Age and Weight"
   ]
  },
  {
   "cell_type": "code",
   "execution_count": 41,
   "id": "4729f242",
   "metadata": {},
   "outputs": [
    {
     "data": {
      "image/png": "[encoded data removed]",
      "text/plain": [
       "<Figure size 864x576 with 1 Axes>"
      ]
     },
     "metadata": {
      "needs_background": "light"
     },
     "output_type": "display_data"
    }
   ],
   "source": [
    "import matplotlib.pyplot as plt\n",
    "import pandas as pd\n",
    "\n",
    "\n",
    "# Extracting relevant columns for clustering\n",
    "features = df[['Age', 'Height', 'Weight', 'family_history_with_overweight',\n",
    "               'FAVC', 'FCVC', 'NCP', 'CAEC', 'SMOKE', 'CH2O', 'SCC', 'FAF', 'TUE',\n",
    "               'CALC', 'MTRANS', 'NObeyesdad','Cluster']]\n",
    "\n",
    "\n",
    "# Create separate DataFrames for each cluster\n",
    "cluster_0 = df[df['Cluster'] == 0]\n",
    "cluster_1 = df[df['Cluster'] == 1]\n",
    "cluster_2 = df[df['Cluster'] == 2]\n",
    "\n",
    "# Plotting the clusters\n",
    "plt.figure(figsize=(12, 8))\n",
    "\n",
    "# Scatter plot for Cluster 0\n",
    "plt.scatter(cluster_0['Age'], cluster_0['Weight'], label='Cluster 0', marker='o')\n",
    "\n",
    "# Scatter plot for Cluster 1\n",
    "plt.scatter(cluster_1['Age'], cluster_1['Weight'], label='Cluster 1', marker='s')\n",
    "\n",
    "# Scatter plot for Cluster 2\n",
    "plt.scatter(cluster_2['Age'], cluster_2['Weight'], label='Cluster 2', marker='p')\n",
    "\n",
    "# Adding labels and title\n",
    "plt.xlabel('Age')\n",
    "plt.ylabel('Weight')\n",
    "plt.title('Clusters based on Age and Weight')\n",
    "plt.legend()\n",
    "plt.grid(True)\n",
    "plt.show()\n"
   ]
  },
  {
   "cell_type": "markdown",
   "id": "7bbc37b4",
   "metadata": {},
   "source": [
    "Cluster 0: This cluster is located in the middle of the chart and consists of people who are middle-aged and have a moderate weight. This could be a group of adults who are at a healthy weight or who are overweight but not obese.\n",
    "\n"
   ]
  },
  {
   "cell_type": "markdown",
   "id": "e89b5369",
   "metadata": {},
   "source": [
    "Cluster 1: This cluster is located in the lower left corner of the chart and consists of people who are younger and have a lower weight. This could be a group of children or young adults who are at a healthy weight.\n",
    "\n"
   ]
  },
  {
   "cell_type": "markdown",
   "id": "a0c48b31",
   "metadata": {},
   "source": [
    "Cluster 2: This cluster is located in the upper right corner of the chart and consists of people who are older and have a higher weight. This could be a group of adults who are obese."
   ]
  },
  {
   "cell_type": "markdown",
   "id": "896f4ca5",
   "metadata": {},
   "source": [
    "# Recommendations"
   ]
  },
  {
   "cell_type": "markdown",
   "id": "91bbe64f",
   "metadata": {},
   "source": [
    "Cluster 0 (Younger, healthy weight):\n",
    "\n",
    "Maintain healthy habits: Encourage continued healthy eating and regular physical activity to develop lifelong positive behaviors.\n",
    "Monitor growth and development: Regular checkups with a healthcare professional to ensure proper growth and development, addressing any potential issues early on.\n"
   ]
  },
  {
   "cell_type": "markdown",
   "id": "59fec90f",
   "metadata": {},
   "source": [
    "Cluster 1 (Middle-aged, moderate weight):\n",
    "\n",
    "Focus on prevention: Implement strategies to prevent weight gain and potential future health risks associated with overweight. This might include:\n",
    "Healthy diet: Increase intake of fruits, vegetables, and whole grains while reducing processed foods and sugary drinks.\n",
    "Regular physical activity: Aim for at least 150 minutes of moderate-intensity exercise per week.\n",
    "Stress management: Find healthy ways to manage stress, as it can contribute to weight gain and unhealthy eating habits."
   ]
  },
  {
   "cell_type": "markdown",
   "id": "e1adeb0d",
   "metadata": {},
   "source": [
    "Cluster 2 (Older, higher weight):\n",
    "\n",
    "Weight management: Address excess weight through a personalized plan involving dietary changes, increased physical activity, and potentially, behavioral therapy. Consult with a healthcare professional for guidance and supervision.\n",
    "Comorbidity management: If present, manage any chronic health conditions associated with obesity (e.g., diabetes, heart disease) to improve overall health and well-being.\n",
    "Physical activity modifications: Adjust physical activity routine based on individual capabilities and limitations. Focus on low-impact exercises and gradually increase intensity as tolerated."
   ]
  },
  {
   "cell_type": "markdown",
   "id": "5cef2f2b",
   "metadata": {},
   "source": [
    "# Plotting the Clustering on basis of Age and NObeyesdad"
   ]
  },
  {
   "cell_type": "code",
   "execution_count": 44,
   "id": "7c83b43a",
   "metadata": {},
   "outputs": [
    {
     "data": {
      "image/png": "[encoded data removed]",
      "text/plain": [
       "<Figure size 864x576 with 1 Axes>"
      ]
     },
     "metadata": {
      "needs_background": "light"
     },
     "output_type": "display_data"
    }
   ],
   "source": [
    "import matplotlib.pyplot as plt\n",
    "import pandas as pd\n",
    "\n",
    "\n",
    "# Extracting relevant columns for clustering\n",
    "features = df[['Age', 'Height', 'Weight', 'family_history_with_overweight',\n",
    "               'FAVC', 'FCVC', 'NCP', 'CAEC', 'SMOKE', 'CH2O', 'SCC', 'FAF', 'TUE',\n",
    "               'CALC', 'MTRANS','NObeyesdad' ,'Cluster']]\n",
    "\n",
    "\n",
    "# Create separate DataFrames for each cluster\n",
    "cluster_0 = df[df['Cluster'] == 0]\n",
    "cluster_1 = df[df['Cluster'] == 1]\n",
    "cluster_2 = df[df['Cluster'] == 2]\n",
    "\n",
    "# Plotting the clusters\n",
    "plt.figure(figsize=(12, 8))\n",
    "\n",
    "# Scatter plot for Cluster 0\n",
    "plt.scatter(cluster_0['Age'], cluster_0['NObeyesdad'], label='Cluster 0', marker='o')\n",
    "\n",
    "# Scatter plot for Cluster 1\n",
    "plt.scatter(cluster_1['Age'], cluster_1['NObeyesdad'], label='Cluster 1', marker='s')\n",
    "\n",
    "# Scatter plot for Cluster 2\n",
    "plt.scatter(cluster_2['Age'], cluster_2['NObeyesdad'], label='Cluster 2', marker='p')\n",
    "\n",
    "# Adding labels and title\n",
    "plt.xlabel('Age')\n",
    "plt.ylabel('NObeyesdad')\n",
    "plt.title('Clusters based on Age and NObeyesdad')\n",
    "plt.legend()\n",
    "plt.grid(True)\n",
    "plt.show()\n"
   ]
  },
  {
   "cell_type": "markdown",
   "id": "16a6b64f",
   "metadata": {},
   "source": [
    "Interpretations-\n",
    "\n",
    "Cluster 0:\n",
    "\n",
    "Age range: Likely younger individuals, potentially children, adolescents, or young adults.\n",
    "NObesity levels: Likely Insufficient_Weight, Normal_Weight, or potentially Overweight_Level_I.\n",
    "Potential implications:\n",
    "Focus on maintaining healthy weight trajectories.\n",
    "Address any growth or nutritional concerns early.\n",
    "Instill positive lifelong habits around diet and exercise.\n",
    "\n",
    "\n",
    "Cluster 1:\n",
    "\n",
    "Age range: Likely middle-aged adults.\n",
    "NObesity levels: Likely Normal_Weight, Overweight_Level_I, or Overweight_Level_II.\n",
    "Potential implications:\n",
    "Emphasize prevention strategies to avoid weight gain and associated health risks.\n",
    "Promote healthy eating habits, regular physical activity, and stress management.\n",
    "\n",
    "\n",
    "Cluster 2:\n",
    "\n",
    "Age range: Likely older adults.\n",
    "NObesity levels: Likely Overweight_Level_II, Obesity_Type_I, Obesity_Type_II, or Obesity_Type_III.\n",
    "Potential implications:\n",
    "Prioritize comprehensive weight management plans, including dietary changes, increased physical activity, and behavioral support.\n",
    "Manage any existing obesity-related comorbidities.\n",
    "Tailor physical activity recommendations to individual capabilities.\n",
    "\n",
    "\n"
   ]
  },
  {
   "cell_type": "markdown",
   "id": "e48c8373",
   "metadata": {},
   "source": [
    "# RECOMMENDATIONS"
   ]
  },
  {
   "cell_type": "markdown",
   "id": "3082122a",
   "metadata": {},
   "source": [
    "\n",
    "\n",
    "\n",
    "\n",
    "Cluster 0:\n",
    "Promote healthy growth and development.\n",
    "Encourage healthy eating and physical activity habits.\n",
    "Monitor weight trajectories and address concerns early.\n",
    "\n",
    "Cluster 1:\n",
    "Focus on prevention strategies to maintain healthy weight.\n",
    "Educate about healthy eating, portion control, and physical activity recommendations.\n",
    "Address stress management and other lifestyle factors that contribute to weight gain.\n",
    "\n",
    "Cluster 2:\n",
    "Develop personalized weight management plans.\n",
    "Provide support and guidance for dietary changes and increased physical activity.\n",
    "Address obesity-related comorbidities and adjust physical activity recommendations as needed.\n",
    "Consider behavioral therapy or support groups for adherence and motivation"
   ]
  }
 ],
 "metadata": {
  "kernelspec": {
   "display_name": "Python 3 (ipykernel)",
   "language": "python",
   "name": "python3"
  },
  "language_info": {
   "codemirror_mode": {
    "name": "ipython",
    "version": 3
   },
   "file_extension": ".py",
   "mimetype": "text/x-python",
   "name": "python",
   "nbconvert_exporter": "python",
   "pygments_lexer": "ipython3",
   "version": "3.9.12"
  }
 },
 "nbformat": 4,
 "nbformat_minor": 5
}
